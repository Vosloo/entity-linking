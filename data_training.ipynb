{
 "cells": [
  {
   "cell_type": "code",
   "execution_count": 1,
   "metadata": {},
   "outputs": [
    {
     "name": "stderr",
     "output_type": "stream",
     "text": [
      "c:\\Users\\Jurek\\anaconda3\\envs\\nlp\\lib\\site-packages\\tqdm\\auto.py:22: TqdmWarning: IProgress not found. Please update jupyter and ipywidgets. See https://ipywidgets.readthedocs.io/en/stable/user_install.html\n",
      "  from .autonotebook import tqdm as notebook_tqdm\n"
     ]
    }
   ],
   "source": [
    "import pickle\n",
    "import random\n",
    "import spacy\n",
    "import pandas as pd\n",
    "from spacy.util import minibatch, compounding\n",
    "from spacy.kb import KnowledgeBase"
   ]
  },
  {
   "cell_type": "code",
   "execution_count": 2,
   "metadata": {},
   "outputs": [],
   "source": [
    "with open('./data/dataset/2023-01-14T001854_dataset.pkl', 'rb') as handle:\n",
    "    mapped_data = pickle.load(handle)"
   ]
  },
  {
   "cell_type": "code",
   "execution_count": 3,
   "metadata": {},
   "outputs": [
    {
     "data": {
      "text/plain": [
       "('Schweitzer was born in Kaysersberg, Haute Alsace, the son of Louis Schweitzer and Adèle Schillinger. He spent his childhood in the Alsatian village of Gunsbach, where his father, the local Lutheran-Evangelical pastor of the EPCAAL, taught him how to play music. The tiny village became home to the Association Internationale Albert Schweitzer (AIAS). The medieval parish church of Gunsbach was shared by the Protestant and Catholic congregations, which held their prayers in different areas at different times on Sundays. This compromise arose after the Protestant Reformation and the Thirty Years\\' War. Schweitzer, the pastor\\'s son, grew up in this exceptional environment of religious tolerance, and developed the belief that true Christianity should always work towards a unity of faith and purpose. Schweitzer\\'s first language was the Alsatian dialect of German language. At the Mulhouse gymnasium he received his \"Abitur\" (the certificate at the end of secondary education) in 1893. He studied organ in Mulhouse from 1885 to 1893 with Eugène Munch, organist at the Protestant cathedral, who inspired Schweitzer with his profound enthusiasm for the music of German composer Richard Wagner. In 1893, he played for the French organist Charles-Marie Widor (at Saint-Sulpice, Paris), for whom Johann Sebastian Bach\\'s organ music contained a mystic sense of the eternal. Widor, deeply impressed, agreed to teach Schweitzer without fee, and a great and influential friendship thus began. From 1893 Schweitzer studied Protestant theology at the Kaiser Wilhelm University in Strasbourg. There he also received instruction in piano and counterpoint from professor Gustav Jacobsthal, and associated closely with Ernest Munch, the brother of his former teacher, organist of St William church, who was also a passionate admirer of J.S. Bach\\'s music. Schweitzer served his one-year compulsory military service in 1894. Schweitzer saw many operas of Richard Wagner in Strasbourg (under Otto Lohse) and in 1896 he managed to afford a visit to the Bayreuth Festival to see Wagner\\'s Der Ring des Nibelungen and Parsifal, which deeply impressed him. In 1898, he went back to Paris to write a PhD dissertation on The Religious Philosophy of Kant at the Sorbonne, and to study in earnest with Widor. Here he often met with the elderly Aristide Cavaillé-Coll. He also studied piano at that time with Marie Jaëll. In 1899, Schweitzer spent the summer semester at the University of Berlin and eventually obtained his theology degree in University of Strasbourg. He published his PhD thesis at the University of Tübingen in 1899. In 1905, Schweitzer began his study of medicine at the University of Strasbourg, culminating in the degree of M.D. in 1913.',\n",
       " {'links': {(1178, 1192): {1511: 1.0},\n",
       "   (1237, 1256): {215161: 1.0},\n",
       "   (1293, 1314): {1339: 1.0},\n",
       "   (1976, 1986): {91227: 1.0},\n",
       "   (2383, 2394): {2706282: 1.0}}})"
      ]
     },
     "execution_count": 3,
     "metadata": {},
     "output_type": "execute_result"
    }
   ],
   "source": [
    "mapped_data[3]"
   ]
  },
  {
   "cell_type": "code",
   "execution_count": 4,
   "metadata": {},
   "outputs": [],
   "source": [
    "with open('./ppl_filtered.pkl', 'rb') as handle:\n",
    "    ppl_filtered = pickle.load(handle)"
   ]
  },
  {
   "cell_type": "code",
   "execution_count": 47,
   "metadata": {},
   "outputs": [],
   "source": [
    "items = pd.read_csv(\"./data/archive/item.csv\")"
   ]
  },
  {
   "cell_type": "code",
   "execution_count": 6,
   "metadata": {},
   "outputs": [],
   "source": [
    "items_aliases = pd.read_csv(\"./data/archive/item_aliases.csv\")"
   ]
  },
  {
   "cell_type": "code",
   "execution_count": 7,
   "metadata": {},
   "outputs": [
    {
     "data": {
      "text/html": [
       "<div>\n",
       "<style scoped>\n",
       "    .dataframe tbody tr th:only-of-type {\n",
       "        vertical-align: middle;\n",
       "    }\n",
       "\n",
       "    .dataframe tbody tr th {\n",
       "        vertical-align: top;\n",
       "    }\n",
       "\n",
       "    .dataframe thead th {\n",
       "        text-align: right;\n",
       "    }\n",
       "</style>\n",
       "<table border=\"1\" class=\"dataframe\">\n",
       "  <thead>\n",
       "    <tr style=\"text-align: right;\">\n",
       "      <th></th>\n",
       "      <th>item_id</th>\n",
       "      <th>en_label</th>\n",
       "      <th>en_description</th>\n",
       "    </tr>\n",
       "  </thead>\n",
       "  <tbody>\n",
       "    <tr>\n",
       "      <th>0</th>\n",
       "      <td>1</td>\n",
       "      <td>Universe</td>\n",
       "      <td>totality of space and all contents</td>\n",
       "    </tr>\n",
       "    <tr>\n",
       "      <th>1</th>\n",
       "      <td>2</td>\n",
       "      <td>Earth</td>\n",
       "      <td>third planet from the Sun in the Solar System</td>\n",
       "    </tr>\n",
       "    <tr>\n",
       "      <th>2</th>\n",
       "      <td>3</td>\n",
       "      <td>life</td>\n",
       "      <td>matter capable of extracting energy from the e...</td>\n",
       "    </tr>\n",
       "    <tr>\n",
       "      <th>3</th>\n",
       "      <td>4</td>\n",
       "      <td>death</td>\n",
       "      <td>permanent cessation of vital functions</td>\n",
       "    </tr>\n",
       "    <tr>\n",
       "      <th>4</th>\n",
       "      <td>5</td>\n",
       "      <td>human</td>\n",
       "      <td>common name of Homo sapiens, unique extant spe...</td>\n",
       "    </tr>\n",
       "  </tbody>\n",
       "</table>\n",
       "</div>"
      ],
      "text/plain": [
       "   item_id  en_label                                     en_description\n",
       "0        1  Universe                 totality of space and all contents\n",
       "1        2     Earth      third planet from the Sun in the Solar System\n",
       "2        3      life  matter capable of extracting energy from the e...\n",
       "3        4     death             permanent cessation of vital functions\n",
       "4        5     human  common name of Homo sapiens, unique extant spe..."
      ]
     },
     "execution_count": 7,
     "metadata": {},
     "output_type": "execute_result"
    }
   ],
   "source": [
    "items.head(5)"
   ]
  },
  {
   "cell_type": "code",
   "execution_count": 8,
   "metadata": {},
   "outputs": [
    {
     "data": {
      "text/html": [
       "<div>\n",
       "<style scoped>\n",
       "    .dataframe tbody tr th:only-of-type {\n",
       "        vertical-align: middle;\n",
       "    }\n",
       "\n",
       "    .dataframe tbody tr th {\n",
       "        vertical-align: top;\n",
       "    }\n",
       "\n",
       "    .dataframe thead th {\n",
       "        text-align: right;\n",
       "    }\n",
       "</style>\n",
       "<table border=\"1\" class=\"dataframe\">\n",
       "  <thead>\n",
       "    <tr style=\"text-align: right;\">\n",
       "      <th></th>\n",
       "      <th>item_id</th>\n",
       "      <th>en_alias</th>\n",
       "    </tr>\n",
       "  </thead>\n",
       "  <tbody>\n",
       "    <tr>\n",
       "      <th>0</th>\n",
       "      <td>1</td>\n",
       "      <td>Our Universe</td>\n",
       "    </tr>\n",
       "    <tr>\n",
       "      <th>1</th>\n",
       "      <td>1</td>\n",
       "      <td>The Universe</td>\n",
       "    </tr>\n",
       "    <tr>\n",
       "      <th>2</th>\n",
       "      <td>1</td>\n",
       "      <td>The Cosmos</td>\n",
       "    </tr>\n",
       "    <tr>\n",
       "      <th>3</th>\n",
       "      <td>1</td>\n",
       "      <td>cosmos</td>\n",
       "    </tr>\n",
       "    <tr>\n",
       "      <th>4</th>\n",
       "      <td>2</td>\n",
       "      <td>Blue Planet</td>\n",
       "    </tr>\n",
       "  </tbody>\n",
       "</table>\n",
       "</div>"
      ],
      "text/plain": [
       "   item_id      en_alias\n",
       "0        1  Our Universe\n",
       "1        1  The Universe\n",
       "2        1    The Cosmos\n",
       "3        1        cosmos\n",
       "4        2   Blue Planet"
      ]
     },
     "execution_count": 8,
     "metadata": {},
     "output_type": "execute_result"
    }
   ],
   "source": [
    "items_aliases.head(5)"
   ]
  },
  {
   "cell_type": "code",
   "execution_count": 74,
   "metadata": {},
   "outputs": [],
   "source": [
    "filtered_items = items[items[\"item_id\"].isin(ppl_filtered)].reset_index(drop=True)"
   ]
  },
  {
   "cell_type": "code",
   "execution_count": 75,
   "metadata": {},
   "outputs": [],
   "source": [
    "filtered_aliases = items_aliases[items_aliases[\"item_id\"].isin(ppl_filtered)].reset_index(drop=True)"
   ]
  },
  {
   "cell_type": "code",
   "execution_count": 73,
   "metadata": {},
   "outputs": [
    {
     "data": {
      "text/html": [
       "<div>\n",
       "<style scoped>\n",
       "    .dataframe tbody tr th:only-of-type {\n",
       "        vertical-align: middle;\n",
       "    }\n",
       "\n",
       "    .dataframe tbody tr th {\n",
       "        vertical-align: top;\n",
       "    }\n",
       "\n",
       "    .dataframe thead th {\n",
       "        text-align: right;\n",
       "    }\n",
       "</style>\n",
       "<table border=\"1\" class=\"dataframe\">\n",
       "  <thead>\n",
       "    <tr style=\"text-align: right;\">\n",
       "      <th></th>\n",
       "      <th>item_id</th>\n",
       "      <th>en_alias</th>\n",
       "    </tr>\n",
       "  </thead>\n",
       "  <tbody>\n",
       "    <tr>\n",
       "      <th>0</th>\n",
       "      <td>206</td>\n",
       "      <td>Stephen Joseph Harper</td>\n",
       "    </tr>\n",
       "    <tr>\n",
       "      <th>1</th>\n",
       "      <td>254</td>\n",
       "      <td>Mozart</td>\n",
       "    </tr>\n",
       "    <tr>\n",
       "      <th>2</th>\n",
       "      <td>254</td>\n",
       "      <td>Joannes Chrysostomus Wolfgangus Theophilus Ama...</td>\n",
       "    </tr>\n",
       "    <tr>\n",
       "      <th>3</th>\n",
       "      <td>254</td>\n",
       "      <td>W. A. Mozart</td>\n",
       "    </tr>\n",
       "    <tr>\n",
       "      <th>4</th>\n",
       "      <td>254</td>\n",
       "      <td>Johann Chrysostom Wolfgang Amadeus Mozart</td>\n",
       "    </tr>\n",
       "    <tr>\n",
       "      <th>...</th>\n",
       "      <td>...</td>\n",
       "      <td>...</td>\n",
       "    </tr>\n",
       "    <tr>\n",
       "      <th>27972</th>\n",
       "      <td>77193323</td>\n",
       "      <td>Lucien George Jr.</td>\n",
       "    </tr>\n",
       "    <tr>\n",
       "      <th>27973</th>\n",
       "      <td>77193323</td>\n",
       "      <td>Bow-Legged Lou</td>\n",
       "    </tr>\n",
       "    <tr>\n",
       "      <th>27974</th>\n",
       "      <td>77193643</td>\n",
       "      <td>Curt Bedeau</td>\n",
       "    </tr>\n",
       "    <tr>\n",
       "      <th>27975</th>\n",
       "      <td>77194102</td>\n",
       "      <td>Baby Gee</td>\n",
       "    </tr>\n",
       "    <tr>\n",
       "      <th>27976</th>\n",
       "      <td>77194102</td>\n",
       "      <td>Gerry Charles</td>\n",
       "    </tr>\n",
       "  </tbody>\n",
       "</table>\n",
       "<p>27977 rows × 2 columns</p>\n",
       "</div>"
      ],
      "text/plain": [
       "        item_id                                           en_alias\n",
       "0           206                              Stephen Joseph Harper\n",
       "1           254                                             Mozart\n",
       "2           254  Joannes Chrysostomus Wolfgangus Theophilus Ama...\n",
       "3           254                                       W. A. Mozart\n",
       "4           254          Johann Chrysostom Wolfgang Amadeus Mozart\n",
       "...         ...                                                ...\n",
       "27972  77193323                                  Lucien George Jr.\n",
       "27973  77193323                                     Bow-Legged Lou\n",
       "27974  77193643                                        Curt Bedeau\n",
       "27975  77194102                                           Baby Gee\n",
       "27976  77194102                                      Gerry Charles\n",
       "\n",
       "[27977 rows x 2 columns]"
      ]
     },
     "execution_count": 73,
     "metadata": {},
     "output_type": "execute_result"
    }
   ],
   "source": [
    "filtered_aliases"
   ]
  },
  {
   "cell_type": "code",
   "execution_count": 76,
   "metadata": {},
   "outputs": [
    {
     "data": {
      "text/html": [
       "<div>\n",
       "<style scoped>\n",
       "    .dataframe tbody tr th:only-of-type {\n",
       "        vertical-align: middle;\n",
       "    }\n",
       "\n",
       "    .dataframe tbody tr th {\n",
       "        vertical-align: top;\n",
       "    }\n",
       "\n",
       "    .dataframe thead th {\n",
       "        text-align: right;\n",
       "    }\n",
       "</style>\n",
       "<table border=\"1\" class=\"dataframe\">\n",
       "  <thead>\n",
       "    <tr style=\"text-align: right;\">\n",
       "      <th></th>\n",
       "      <th>item_id</th>\n",
       "      <th>en_label</th>\n",
       "      <th>en_description</th>\n",
       "    </tr>\n",
       "  </thead>\n",
       "  <tbody>\n",
       "    <tr>\n",
       "      <th>0</th>\n",
       "      <td>206</td>\n",
       "      <td>Stephen Harper</td>\n",
       "      <td>22nd Prime Minister of Canada</td>\n",
       "    </tr>\n",
       "    <tr>\n",
       "      <th>1</th>\n",
       "      <td>254</td>\n",
       "      <td>Wolfgang Amadeus Mozart</td>\n",
       "      <td>Austrian composer of the Classical period</td>\n",
       "    </tr>\n",
       "    <tr>\n",
       "      <th>2</th>\n",
       "      <td>255</td>\n",
       "      <td>Ludwig van Beethoven</td>\n",
       "      <td>German classical and romantic composer</td>\n",
       "    </tr>\n",
       "    <tr>\n",
       "      <th>3</th>\n",
       "      <td>303</td>\n",
       "      <td>Elvis Presley</td>\n",
       "      <td>American singer and actor</td>\n",
       "    </tr>\n",
       "    <tr>\n",
       "      <th>4</th>\n",
       "      <td>392</td>\n",
       "      <td>Bob Dylan</td>\n",
       "      <td>American recording artist; singer-songwriter, ...</td>\n",
       "    </tr>\n",
       "    <tr>\n",
       "      <th>...</th>\n",
       "      <td>...</td>\n",
       "      <td>...</td>\n",
       "      <td>...</td>\n",
       "    </tr>\n",
       "    <tr>\n",
       "      <th>90014</th>\n",
       "      <td>77197048</td>\n",
       "      <td>Gregg Maizel</td>\n",
       "      <td>musician, member of the band Vigil</td>\n",
       "    </tr>\n",
       "    <tr>\n",
       "      <th>90015</th>\n",
       "      <td>77197304</td>\n",
       "      <td>Jo Connor</td>\n",
       "      <td>musician, member of the band Vigil</td>\n",
       "    </tr>\n",
       "    <tr>\n",
       "      <th>90016</th>\n",
       "      <td>77197507</td>\n",
       "      <td>Andy R</td>\n",
       "      <td>musician, member of the band Vigil</td>\n",
       "    </tr>\n",
       "    <tr>\n",
       "      <th>90017</th>\n",
       "      <td>77197510</td>\n",
       "      <td>X Factor</td>\n",
       "      <td>musician, member of the band Vigil</td>\n",
       "    </tr>\n",
       "    <tr>\n",
       "      <th>90018</th>\n",
       "      <td>77224469</td>\n",
       "      <td>Tatu Erkkilä</td>\n",
       "      <td>Finnish choirmaster and pianist</td>\n",
       "    </tr>\n",
       "  </tbody>\n",
       "</table>\n",
       "<p>90019 rows × 3 columns</p>\n",
       "</div>"
      ],
      "text/plain": [
       "        item_id                 en_label  \\\n",
       "0           206           Stephen Harper   \n",
       "1           254  Wolfgang Amadeus Mozart   \n",
       "2           255     Ludwig van Beethoven   \n",
       "3           303            Elvis Presley   \n",
       "4           392                Bob Dylan   \n",
       "...         ...                      ...   \n",
       "90014  77197048             Gregg Maizel   \n",
       "90015  77197304                Jo Connor   \n",
       "90016  77197507                   Andy R   \n",
       "90017  77197510                 X Factor   \n",
       "90018  77224469             Tatu Erkkilä   \n",
       "\n",
       "                                          en_description  \n",
       "0                          22nd Prime Minister of Canada  \n",
       "1              Austrian composer of the Classical period  \n",
       "2                 German classical and romantic composer  \n",
       "3                              American singer and actor  \n",
       "4      American recording artist; singer-songwriter, ...  \n",
       "...                                                  ...  \n",
       "90014                 musician, member of the band Vigil  \n",
       "90015                 musician, member of the band Vigil  \n",
       "90016                 musician, member of the band Vigil  \n",
       "90017                 musician, member of the band Vigil  \n",
       "90018                    Finnish choirmaster and pianist  \n",
       "\n",
       "[90019 rows x 3 columns]"
      ]
     },
     "execution_count": 76,
     "metadata": {},
     "output_type": "execute_result"
    }
   ],
   "source": [
    "filtered_items"
   ]
  },
  {
   "cell_type": "code",
   "execution_count": 77,
   "metadata": {},
   "outputs": [],
   "source": [
    "sorted_ppl = filtered_items.reset_index(drop=True).set_index([\"en_label\"]).sort_index()"
   ]
  },
  {
   "cell_type": "code",
   "execution_count": 108,
   "metadata": {},
   "outputs": [
    {
     "data": {
      "text/plain": [
       "array([[12580615, 'Korean R&B singer songwriter'],\n",
       "       [3599072, 'Canadian hip-hop record producer']], dtype=object)"
      ]
     },
     "execution_count": 108,
     "metadata": {},
     "output_type": "execute_result"
    }
   ],
   "source": [
    "sorted_ppl.loc[\"40\"].values"
   ]
  },
  {
   "cell_type": "code",
   "execution_count": 107,
   "metadata": {},
   "outputs": [
    {
     "data": {
      "text/html": [
       "<div>\n",
       "<style scoped>\n",
       "    .dataframe tbody tr th:only-of-type {\n",
       "        vertical-align: middle;\n",
       "    }\n",
       "\n",
       "    .dataframe tbody tr th {\n",
       "        vertical-align: top;\n",
       "    }\n",
       "\n",
       "    .dataframe thead th {\n",
       "        text-align: right;\n",
       "    }\n",
       "</style>\n",
       "<table border=\"1\" class=\"dataframe\">\n",
       "  <thead>\n",
       "    <tr style=\"text-align: right;\">\n",
       "      <th></th>\n",
       "      <th>item_id</th>\n",
       "      <th>en_description</th>\n",
       "    </tr>\n",
       "    <tr>\n",
       "      <th>en_label</th>\n",
       "      <th></th>\n",
       "      <th></th>\n",
       "    </tr>\n",
       "  </thead>\n",
       "  <tbody>\n",
       "    <tr>\n",
       "      <th>Joseph Thorne Harris</th>\n",
       "      <td>22070195</td>\n",
       "      <td>English pianist and composer</td>\n",
       "    </tr>\n",
       "    <tr>\n",
       "      <th>!PAUS3</th>\n",
       "      <td>3466056</td>\n",
       "      <td>Ukrainian musician</td>\n",
       "    </tr>\n",
       "    <tr>\n",
       "      <th>\"Bassy\" Bob Brockmann</th>\n",
       "      <td>13416958</td>\n",
       "      <td>American music producer and musician</td>\n",
       "    </tr>\n",
       "    <tr>\n",
       "      <th>\"E\"qual</th>\n",
       "      <td>11184600</td>\n",
       "      <td>Japanese hip-hop artist and producer</td>\n",
       "    </tr>\n",
       "    <tr>\n",
       "      <th>\"King\" Bennie Nawahi</th>\n",
       "      <td>1742005</td>\n",
       "      <td>American steel guitar master from Hawaii</td>\n",
       "    </tr>\n",
       "    <tr>\n",
       "      <th>...</th>\n",
       "      <td>...</td>\n",
       "      <td>...</td>\n",
       "    </tr>\n",
       "    <tr>\n",
       "      <th>Ștefan Mangoianu</th>\n",
       "      <td>21396231</td>\n",
       "      <td>Romanian composer</td>\n",
       "    </tr>\n",
       "    <tr>\n",
       "      <th>Ștefan Niculescu</th>\n",
       "      <td>397145</td>\n",
       "      <td>Romanian composer</td>\n",
       "    </tr>\n",
       "    <tr>\n",
       "      <th>小松耕輔</th>\n",
       "      <td>11461237</td>\n",
       "      <td>Japanese composer</td>\n",
       "    </tr>\n",
       "    <tr>\n",
       "      <th>袁惟仁</th>\n",
       "      <td>9340858</td>\n",
       "      <td>Taiwanese musician</td>\n",
       "    </tr>\n",
       "    <tr>\n",
       "      <th>조영수</th>\n",
       "      <td>12616926</td>\n",
       "      <td>South Korean singer</td>\n",
       "    </tr>\n",
       "  </tbody>\n",
       "</table>\n",
       "<p>90019 rows × 2 columns</p>\n",
       "</div>"
      ],
      "text/plain": [
       "                         item_id                            en_description\n",
       "en_label                                                                  \n",
       " Joseph Thorne Harris   22070195              English pianist and composer\n",
       "!PAUS3                   3466056                        Ukrainian musician\n",
       "\"Bassy\" Bob Brockmann   13416958      American music producer and musician\n",
       "\"E\"qual                 11184600      Japanese hip-hop artist and producer\n",
       "\"King\" Bennie Nawahi     1742005  American steel guitar master from Hawaii\n",
       "...                          ...                                       ...\n",
       "Ștefan Mangoianu        21396231                         Romanian composer\n",
       "Ștefan Niculescu          397145                         Romanian composer\n",
       "小松耕輔                    11461237                         Japanese composer\n",
       "袁惟仁                      9340858                        Taiwanese musician\n",
       "조영수                     12616926                       South Korean singer\n",
       "\n",
       "[90019 rows x 2 columns]"
      ]
     },
     "execution_count": 107,
     "metadata": {},
     "output_type": "execute_result"
    }
   ],
   "source": [
    "sorted_ppl"
   ]
  },
  {
   "cell_type": "code",
   "execution_count": 28,
   "metadata": {},
   "outputs": [],
   "source": [
    "nlp = spacy.load(\"en_core_web_lg\")\n",
    "nlp_vectors = spacy.load(\"en_core_web_lg\")"
   ]
  },
  {
   "cell_type": "code",
   "execution_count": 29,
   "metadata": {},
   "outputs": [],
   "source": [
    "def create_kb(vocab):\n",
    "    kb = KnowledgeBase(vocab=vocab, entity_vector_length=300)\n",
    "    added_labels = set()\n",
    "    for ind, label in enumerate(sorted_ppl.index.values):\n",
    "        print(f\"\\r{ind:6} / {len(sorted_ppl)-1}\",end=\"\")\n",
    "        if label in added_labels:\n",
    "            continue\n",
    "\n",
    "        res = sorted_ppl.loc[label]\n",
    "        name = label\n",
    "        added_labels.update([name])\n",
    "        if type(res) == pd.Series:\n",
    "            qid = [res.values[0]]\n",
    "            desc = [res.values[1]]\n",
    "        else:\n",
    "            qid = res.values[:,0]\n",
    "            desc = res.values[:,1]\n",
    "\n",
    "        for ind, qid_ in enumerate(qid):\n",
    "            desc_enc = nlp_vectors(desc[ind]).vector\n",
    "            kb.add_entity(entity=str(qid_), entity_vector=desc_enc, freq=342)\n",
    "\n",
    "        probs = [1/len(qid)] * len(qid) if len(qid) > 1 else [1]\n",
    "        # try:\n",
    "        kb.add_alias(alias=name, entities=list(map(str, qid)), probabilities=probs)\n",
    "        # except Exception as e:\n",
    "        #     print(name)\n",
    "        #     print(list(qid))\n",
    "        #     print(probs)\n",
    "        #     raise e\n",
    "    return kb"
   ]
  },
  {
   "cell_type": "code",
   "execution_count": 30,
   "metadata": {},
   "outputs": [
    {
     "data": {
      "text/plain": [
       "<spacy.pipeline.entity_linker.EntityLinker at 0x18b6e181160>"
      ]
     },
     "execution_count": 30,
     "metadata": {},
     "output_type": "execute_result"
    }
   ],
   "source": [
    "config={\"incl_prior\":False}\n",
    "entity_linker = nlp.add_pipe(\"entity_linker\", config=config)\n",
    "entity_linker.from_disk(\"./models/entity_linker_v1\")"
   ]
  },
  {
   "cell_type": "code",
   "execution_count": 117,
   "metadata": {},
   "outputs": [
    {
     "name": "stdout",
     "output_type": "stream",
     "text": [
      " 90018 / 90018"
     ]
    }
   ],
   "source": [
    "# config={\"incl_prior\":False}\n",
    "# entity_linker = nlp.add_pipe(\"entity_linker\", config=config)\n",
    "# entity_linker.set_kb(create_kb)"
   ]
  },
  {
   "cell_type": "code",
   "execution_count": 119,
   "metadata": {},
   "outputs": [],
   "source": [
    "#entity_linker.to_disk(\"./models/entity_linker_v1\")"
   ]
  },
  {
   "cell_type": "code",
   "execution_count": 31,
   "metadata": {},
   "outputs": [],
   "source": [
    "#random.shuffle(mapped_data)\n",
    "\n",
    "train_data = mapped_data[:1000]\n",
    "#test_data = mapped_data[18092:]"
   ]
  },
  {
   "cell_type": "code",
   "execution_count": 32,
   "metadata": {},
   "outputs": [],
   "source": [
    "from spacy.training import Example"
   ]
  },
  {
   "cell_type": "code",
   "execution_count": 33,
   "metadata": {},
   "outputs": [
    {
     "name": "stdout",
     "output_type": "stream",
     "text": [
      "   999 / 999"
     ]
    }
   ],
   "source": [
    "TRAIN_DOCS = []\n",
    "if \"sentencizer\" not in nlp.pipe_names:\n",
    "    nlp.add_pipe(\"sentencizer\")\n",
    "sentencizer = nlp.get_pipe(\"sentencizer\")\n",
    "count = 0\n",
    "for ind, (text, annotation) in enumerate(train_data):\n",
    "    print(f\"\\r{ind:6} / {len(train_data)-1}\",end=\"\")\n",
    "    for span, code in annotation[\"links\"].items():\n",
    "        str_id = str(list(code.keys())[0])\n",
    "        new_ann = {\"entities\": [(*span, \"PERSON\")]} | {\"links\": {span: {str_id: list(code.values())[0]}}}\n",
    "    try:\n",
    "        example = Example.from_dict(nlp.make_doc(text), new_ann)\n",
    "    except Exception as e:\n",
    "        count += 1\n",
    "        continue\n",
    "    example.reference = sentencizer(example.reference)\n",
    "    #print(example)\n",
    "    TRAIN_DOCS.append(example)"
   ]
  },
  {
   "cell_type": "code",
   "execution_count": 34,
   "metadata": {},
   "outputs": [
    {
     "data": {
      "text/plain": [
       "7"
      ]
     },
     "execution_count": 34,
     "metadata": {},
     "output_type": "execute_result"
    }
   ],
   "source": [
    "count"
   ]
  },
  {
   "cell_type": "code",
   "execution_count": 129,
   "metadata": {},
   "outputs": [],
   "source": [
    "# with open(\"TRAIN_DOCS_DATA.pkl\", \"wb\") as file:\n",
    "#     pickle.dump(TRAIN_DOCS, file)"
   ]
  },
  {
   "cell_type": "code",
   "execution_count": 13,
   "metadata": {},
   "outputs": [],
   "source": [
    "# with open(\"TRAIN_DOCS_DATA.pkl\", \"rb\") as file:\n",
    "#     TRAIN_DOCS=pickle.load(file)"
   ]
  },
  {
   "cell_type": "code",
   "execution_count": 35,
   "metadata": {},
   "outputs": [],
   "source": [
    "entity_linker.initialize(get_examples=lambda: TRAIN_DOCS)"
   ]
  },
  {
   "cell_type": "code",
   "execution_count": 36,
   "metadata": {},
   "outputs": [],
   "source": [
    "from spacy.util import minibatch, compounding"
   ]
  },
  {
   "cell_type": "code",
   "execution_count": 37,
   "metadata": {},
   "outputs": [
    {
     "data": {
      "text/plain": [
       "993"
      ]
     },
     "execution_count": 37,
     "metadata": {},
     "output_type": "execute_result"
    }
   ],
   "source": [
    "len(TRAIN_DOCS)"
   ]
  },
  {
   "cell_type": "code",
   "execution_count": 38,
   "metadata": {},
   "outputs": [],
   "source": [
    "import os\n",
    "os.environ[\"KMP_DUPLICATE_LIB_OK\"]=\"TRUE\""
   ]
  },
  {
   "cell_type": "code",
   "execution_count": 39,
   "metadata": {},
   "outputs": [
    {
     "data": {
      "text/plain": [
       "True"
      ]
     },
     "execution_count": 39,
     "metadata": {},
     "output_type": "execute_result"
    }
   ],
   "source": [
    "spacy.prefer_gpu()"
   ]
  },
  {
   "cell_type": "code",
   "execution_count": 41,
   "metadata": {},
   "outputs": [
    {
     "name": "stdout",
     "output_type": "stream",
     "text": [
      "   243\n",
      "0 Losses {'entity_linker': 0.6821393668651581}\n",
      "   243\n",
      "   243\n",
      "   243\n",
      "   243\n",
      "   243\n",
      "   243\n",
      "   243\n",
      "   243\n",
      "   243\n",
      "   243\n",
      "10 Losses {'entity_linker': 0.6010531932115555}\n",
      "   243\n",
      "   243\n",
      "   243\n",
      "   243\n",
      "   243\n",
      "   243\n",
      "   243\n",
      "   243\n",
      "   243\n",
      "   243\n",
      "20 Losses {'entity_linker': 0.4001265615224838}\n",
      "   243\n",
      "   243\n",
      "   243\n",
      "   243\n",
      "   243\n",
      "   243\n",
      "   243\n",
      "   243\n",
      "   243\n",
      "   243\n",
      "30 Losses {'entity_linker': 0.28795699775218964}\n",
      "   243\n",
      "   243\n",
      "   243\n",
      "   243\n",
      "   243\n",
      "   243\n",
      "   243\n",
      "   243\n",
      "   243\n",
      "   243\n",
      "40 Losses {'entity_linker': 0.19795291125774384}\n",
      "   243\n",
      "   243\n",
      "   243\n",
      "   243\n",
      "   243\n",
      "   243\n",
      "   243\n",
      "   243\n",
      "   243\n",
      "49 Losses {'entity_linker': 0.11580753326416016}\n"
     ]
    }
   ],
   "source": [
    "with nlp.select_pipes(enable=[\"entity_linker\"]):   # train only the entity_linker\n",
    "    optimizer = nlp.resume_training()\n",
    "    for itn in range(50):   # 500 iterations takes about a minute to train\n",
    "        batches = minibatch(TRAIN_DOCS, size=compounding(4.0, 32.0, 1.001))  # increasing batch sizes\n",
    "        losses = {}\n",
    "        for i, batch in enumerate(batches):\n",
    "            print(f\"\\r{i:6}\",end=\"\")\n",
    "            nlp.update(\n",
    "                batch,   \n",
    "                drop=0.2,      # prevent overfitting\n",
    "                losses=losses,\n",
    "                sgd=optimizer,\n",
    "            )\n",
    "        print()\n",
    "        if itn % 10 == 0:\n",
    "            print(itn, \"Losses\", losses)   # print the training loss\n",
    "print(itn, \"Losses\", losses)"
   ]
  },
  {
   "cell_type": "code",
   "execution_count": 55,
   "metadata": {},
   "outputs": [
    {
     "data": {
      "text/plain": [
       "'After his many various jobs, he decided that he wanted to write in Tin Pan Alley and signed several contracts with music publishers before his contracts were eventually terminated. His first song credit is listed as \"In Love with the Memory of You\", with music by William Schuman, published in 1931. Loesser\\'s early lyrics included two hit songs of 1934, \"Junk Man\" and \"I Wish I Were Twins\" (both with music by Joe Meyer, and the latter with co-lyric credit to Eddie DeLange). However, they apparently did not help his reputation, and in later years, he never mentioned them. In the mid-1930s he would sing for his suppers at The Back Drop, a night spot on east 52nd Street along with composer Irving Actman, but during the day he worked on the staff of Leo Feist Inc. writing lyrics to Joseph Brandfon\\'s music at $100 a week. After a year, Feist had not published any of them. He fared only slightly better collaborating with the future classical composer William Schuman, selling one song, that would flop, to Feist. Loesser described his early days of learning the songwriting craft as having \"a rendezvous with failure.\" But while he dabbled in other trades, he inevitably returned to the music business. The Back Drop turned out to have some substantial connections. Due to his work there he was able to secure his first Broadway musical, The Illustrator’s Show, a 1936 revue written with Back Drop collaborator Irving Actman, lasted only four nights. The year before, while performing at the Back Drop, he met an aspiring singer, Lynn Garland (born Mary Alice Blankenbaker). He proposed in a September 1936 letter that included funds for a railroad ticket to Los Angeles where Loesser\\'s contract to Universal Pictures had just ended. The couple married in a judge\\'s office. Loesser was subsequently offered a contract by Paramount Pictures. His first song credit with Paramount was \"Moon of Manakoora\" written with Alfred Newman for Dorothy Lamour in the film The Hurricane. He wrote the lyrics for many popular songs during this period, including \"Two Sleepy People\" and \"Heart and Soul\" with Hoagy Carmichael and \"I Hear Music\" with Burton Lane. He also worked with Arthur Schwartz, and Joseph J. Lilley. One of his notable efforts was \"See What the Boys in the Back Room Will Have\", with music by Friedrich Hollaender sung by Marlene Dietrich in Destry Rides Again. In 1941, he wrote \"I Don\\'t Want to Walk Without You\" with Jule Styne included in the 1942 film Sweater Girl and sung by Betty Jane Rhodes. Irving Berlin was a huge fan of the song, and once played it over and over again telling Loesser why he believed it was the greatest song he wished he\\'d written. Members of the Western Writers of America chose the 1942 song \"Jingle Jangle Jingle\", for which he wrote the lyrics, as one of the Top 100 Western songs of all time. He stayed in Hollywood until World War II, when he joined the Army Air Force.'"
      ]
     },
     "execution_count": 55,
     "metadata": {},
     "output_type": "execute_result"
    }
   ],
   "source": [
    "train_data[3][0]"
   ]
  },
  {
   "cell_type": "code",
   "execution_count": 58,
   "metadata": {},
   "outputs": [
    {
     "name": "stdout",
     "output_type": "stream",
     "text": [
      "William Schuman PERSON 503225\n",
      "American NORP NIL\n"
     ]
    }
   ],
   "source": [
    "text = \"As a young musician, William Schuman compositions greatly influenced my understanding of the American classical music tradition.\"\n",
    "doc = nlp(text)\n",
    "for ent in doc.ents:\n",
    "    print(ent.text, ent.label_, ent.kb_id_)"
   ]
  },
  {
   "cell_type": "code",
   "execution_count": 52,
   "metadata": {},
   "outputs": [
    {
     "data": {
      "text/html": [
       "<div>\n",
       "<style scoped>\n",
       "    .dataframe tbody tr th:only-of-type {\n",
       "        vertical-align: middle;\n",
       "    }\n",
       "\n",
       "    .dataframe tbody tr th {\n",
       "        vertical-align: top;\n",
       "    }\n",
       "\n",
       "    .dataframe thead th {\n",
       "        text-align: right;\n",
       "    }\n",
       "</style>\n",
       "<table border=\"1\" class=\"dataframe\">\n",
       "  <thead>\n",
       "    <tr style=\"text-align: right;\">\n",
       "      <th></th>\n",
       "      <th>item_id</th>\n",
       "      <th>en_label</th>\n",
       "      <th>en_description</th>\n",
       "    </tr>\n",
       "  </thead>\n",
       "  <tbody>\n",
       "    <tr>\n",
       "      <th>1027281</th>\n",
       "      <td>1238247</td>\n",
       "      <td>Mohammad-Reza Shajarian</td>\n",
       "      <td>Iranian singer and musician</td>\n",
       "    </tr>\n",
       "  </tbody>\n",
       "</table>\n",
       "</div>"
      ],
      "text/plain": [
       "         item_id                 en_label               en_description\n",
       "1027281  1238247  Mohammad-Reza Shajarian  Iranian singer and musician"
      ]
     },
     "execution_count": 52,
     "metadata": {},
     "output_type": "execute_result"
    }
   ],
   "source": [
    "items[items[\"item_id\"] == 1238247]"
   ]
  }
 ],
 "metadata": {
  "kernelspec": {
   "display_name": "Python 3.9.13 ('nlp')",
   "language": "python",
   "name": "python3"
  },
  "language_info": {
   "codemirror_mode": {
    "name": "ipython",
    "version": 3
   },
   "file_extension": ".py",
   "mimetype": "text/x-python",
   "name": "python",
   "nbconvert_exporter": "python",
   "pygments_lexer": "ipython3",
   "version": "3.9.13"
  },
  "orig_nbformat": 4,
  "vscode": {
   "interpreter": {
    "hash": "f16bd32f816dc4beb702c0f7768fcd68b994a130f2aec88184ef3612c995104c"
   }
  }
 },
 "nbformat": 4,
 "nbformat_minor": 2
}
