{
 "cells": [
  {
   "cell_type": "code",
   "execution_count": 4,
   "metadata": {},
   "outputs": [],
   "source": [
    "import pickle\n",
    "import random\n",
    "import spacy\n",
    "from spacy.util import minibatch, compounding"
   ]
  },
  {
   "cell_type": "code",
   "execution_count": null,
   "metadata": {},
   "outputs": [],
   "source": [
    "train_data = None\n",
    "test_data = None"
   ]
  },
  {
   "cell_type": "code",
   "execution_count": null,
   "metadata": {},
   "outputs": [],
   "source": [
    "nlp = spacy.load(\"en_core_web_lg\")\n",
    "\n",
    "entity_linker = nlp.create_pipe(\"entity_linker\", config={\"incl_prior\":False})\n",
    "entity_linker.set_kb(kb)\n",
    "nlp.add_pipe(entity_linker, last=True)\n",
    "\n",
    "other_pipes = [pipe for pipe in nlp.pipe_names if pipe != \"entity_linker\"]\n",
    "with nlp.disable_pipes(*other_pipes):\n",
    "    optimizer = nlp.begin_training()\n",
    "    for i in range(500):\n",
    "        random.shuffle(train_data)#DOSTOSOWAĆ DANE\n",
    "        batches = minibatch(train_data, size=compounding(4.0, 32.0, 1.001))\n",
    "        losses = {}\n",
    "        for batch in batches:\n",
    "            texts, annotations = zip(*batch)\n",
    "            nlp.update(\n",
    "                texts,\n",
    "                annotations\n",
    "                drop=0.2,\n",
    "                losses=losses,\n",
    "                sgd=optimizer\n",
    "            )\n",
    "        if  i % 50 == 0:\n",
    "            print(i, \"Losses\", losses)\n",
    "\n",
    "nlp.to_disk(output_dir / \"my_nlp_el\")\n",
    "\n",
    "with open(output_dir / \"test_set.pkl\", \"wb\") as f:\n",
    "    pickle.dump(f)"
   ]
  },
  {
   "cell_type": "code",
   "execution_count": null,
   "metadata": {},
   "outputs": [],
   "source": [
    "nlp = spacy.load(output_dir / \"my_nlp_el\")\n",
    "text = \"\"\n",
    "doc = nlp(text)\n",
    "for ent in doc.ents:\n",
    "    print(ent.text, ent.label_, ent.kb_id_)"
   ]
  }
 ],
 "metadata": {
  "kernelspec": {
   "display_name": "Python 3.9.13 ('nlp')",
   "language": "python",
   "name": "python3"
  },
  "language_info": {
   "codemirror_mode": {
    "name": "ipython",
    "version": 3
   },
   "file_extension": ".py",
   "mimetype": "text/x-python",
   "name": "python",
   "nbconvert_exporter": "python",
   "pygments_lexer": "ipython3",
   "version": "3.9.13"
  },
  "orig_nbformat": 4,
  "vscode": {
   "interpreter": {
    "hash": "f16bd32f816dc4beb702c0f7768fcd68b994a130f2aec88184ef3612c995104c"
   }
  }
 },
 "nbformat": 4,
 "nbformat_minor": 2
}
