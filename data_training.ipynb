{
 "cells": [
  {
   "cell_type": "code",
   "execution_count": 1,
   "metadata": {},
   "outputs": [
    {
     "name": "stderr",
     "output_type": "stream",
     "text": [
      "c:\\Users\\Jurek\\anaconda3\\envs\\nlp\\lib\\site-packages\\tqdm\\auto.py:22: TqdmWarning: IProgress not found. Please update jupyter and ipywidgets. See https://ipywidgets.readthedocs.io/en/stable/user_install.html\n",
      "  from .autonotebook import tqdm as notebook_tqdm\n"
     ]
    }
   ],
   "source": [
    "import pickle\n",
    "import random\n",
    "import spacy\n",
    "import pandas as pd\n",
    "from spacy.util import minibatch, compounding\n",
    "from spacy.kb import KnowledgeBase"
   ]
  },
  {
   "cell_type": "code",
   "execution_count": 2,
   "metadata": {},
   "outputs": [],
   "source": [
    "with open('./data/dataset/2023-01-14T001854_dataset.pkl', 'rb') as handle:\n",
    "    mapped_data = pickle.load(handle)"
   ]
  },
  {
   "cell_type": "code",
   "execution_count": 3,
   "metadata": {},
   "outputs": [],
   "source": [
    "with open('./ppl_filtered.pkl', 'rb') as handle:\n",
    "    ppl_filtered = pickle.load(handle)"
   ]
  },
  {
   "cell_type": "code",
   "execution_count": 13,
   "metadata": {},
   "outputs": [],
   "source": [
    "items = pd.read_csv(\"./data/archive/item.csv\")"
   ]
  },
  {
   "cell_type": "code",
   "execution_count": 5,
   "metadata": {},
   "outputs": [],
   "source": [
    "items_aliases = pd.read_csv(\"./data/archive/item_aliases.csv\")"
   ]
  },
  {
   "cell_type": "code",
   "execution_count": 6,
   "metadata": {},
   "outputs": [
    {
     "data": {
      "text/html": [
       "<div>\n",
       "<style scoped>\n",
       "    .dataframe tbody tr th:only-of-type {\n",
       "        vertical-align: middle;\n",
       "    }\n",
       "\n",
       "    .dataframe tbody tr th {\n",
       "        vertical-align: top;\n",
       "    }\n",
       "\n",
       "    .dataframe thead th {\n",
       "        text-align: right;\n",
       "    }\n",
       "</style>\n",
       "<table border=\"1\" class=\"dataframe\">\n",
       "  <thead>\n",
       "    <tr style=\"text-align: right;\">\n",
       "      <th></th>\n",
       "      <th>item_id</th>\n",
       "      <th>en_label</th>\n",
       "      <th>en_description</th>\n",
       "    </tr>\n",
       "  </thead>\n",
       "  <tbody>\n",
       "    <tr>\n",
       "      <th>0</th>\n",
       "      <td>1</td>\n",
       "      <td>Universe</td>\n",
       "      <td>totality of space and all contents</td>\n",
       "    </tr>\n",
       "    <tr>\n",
       "      <th>1</th>\n",
       "      <td>2</td>\n",
       "      <td>Earth</td>\n",
       "      <td>third planet from the Sun in the Solar System</td>\n",
       "    </tr>\n",
       "    <tr>\n",
       "      <th>2</th>\n",
       "      <td>3</td>\n",
       "      <td>life</td>\n",
       "      <td>matter capable of extracting energy from the e...</td>\n",
       "    </tr>\n",
       "    <tr>\n",
       "      <th>3</th>\n",
       "      <td>4</td>\n",
       "      <td>death</td>\n",
       "      <td>permanent cessation of vital functions</td>\n",
       "    </tr>\n",
       "    <tr>\n",
       "      <th>4</th>\n",
       "      <td>5</td>\n",
       "      <td>human</td>\n",
       "      <td>common name of Homo sapiens, unique extant spe...</td>\n",
       "    </tr>\n",
       "  </tbody>\n",
       "</table>\n",
       "</div>"
      ],
      "text/plain": [
       "   item_id  en_label                                     en_description\n",
       "0        1  Universe                 totality of space and all contents\n",
       "1        2     Earth      third planet from the Sun in the Solar System\n",
       "2        3      life  matter capable of extracting energy from the e...\n",
       "3        4     death             permanent cessation of vital functions\n",
       "4        5     human  common name of Homo sapiens, unique extant spe..."
      ]
     },
     "execution_count": 6,
     "metadata": {},
     "output_type": "execute_result"
    }
   ],
   "source": [
    "items.head(5)"
   ]
  },
  {
   "cell_type": "code",
   "execution_count": 7,
   "metadata": {},
   "outputs": [
    {
     "data": {
      "text/html": [
       "<div>\n",
       "<style scoped>\n",
       "    .dataframe tbody tr th:only-of-type {\n",
       "        vertical-align: middle;\n",
       "    }\n",
       "\n",
       "    .dataframe tbody tr th {\n",
       "        vertical-align: top;\n",
       "    }\n",
       "\n",
       "    .dataframe thead th {\n",
       "        text-align: right;\n",
       "    }\n",
       "</style>\n",
       "<table border=\"1\" class=\"dataframe\">\n",
       "  <thead>\n",
       "    <tr style=\"text-align: right;\">\n",
       "      <th></th>\n",
       "      <th>item_id</th>\n",
       "      <th>en_alias</th>\n",
       "    </tr>\n",
       "  </thead>\n",
       "  <tbody>\n",
       "    <tr>\n",
       "      <th>0</th>\n",
       "      <td>1</td>\n",
       "      <td>Our Universe</td>\n",
       "    </tr>\n",
       "    <tr>\n",
       "      <th>1</th>\n",
       "      <td>1</td>\n",
       "      <td>The Universe</td>\n",
       "    </tr>\n",
       "    <tr>\n",
       "      <th>2</th>\n",
       "      <td>1</td>\n",
       "      <td>The Cosmos</td>\n",
       "    </tr>\n",
       "    <tr>\n",
       "      <th>3</th>\n",
       "      <td>1</td>\n",
       "      <td>cosmos</td>\n",
       "    </tr>\n",
       "    <tr>\n",
       "      <th>4</th>\n",
       "      <td>2</td>\n",
       "      <td>Blue Planet</td>\n",
       "    </tr>\n",
       "  </tbody>\n",
       "</table>\n",
       "</div>"
      ],
      "text/plain": [
       "   item_id      en_alias\n",
       "0        1  Our Universe\n",
       "1        1  The Universe\n",
       "2        1    The Cosmos\n",
       "3        1        cosmos\n",
       "4        2   Blue Planet"
      ]
     },
     "execution_count": 7,
     "metadata": {},
     "output_type": "execute_result"
    }
   ],
   "source": [
    "items_aliases.head(5)"
   ]
  },
  {
   "cell_type": "code",
   "execution_count": 8,
   "metadata": {},
   "outputs": [],
   "source": [
    "filtered_items = items[items[\"item_id\"].isin(ppl_filtered)].reset_index(drop=True)"
   ]
  },
  {
   "cell_type": "code",
   "execution_count": 9,
   "metadata": {},
   "outputs": [
    {
     "data": {
      "text/plain": [
       "array([     206,      254,      255, ..., 77197507, 77197510, 77224469],\n",
       "      dtype=int64)"
      ]
     },
     "execution_count": 9,
     "metadata": {},
     "output_type": "execute_result"
    }
   ],
   "source": [
    "filtered_items.item_id.values"
   ]
  },
  {
   "cell_type": "code",
   "execution_count": 10,
   "metadata": {},
   "outputs": [],
   "source": [
    "filtered_aliases = items_aliases[items_aliases[\"item_id\"].isin(ppl_filtered)].reset_index(drop=True)"
   ]
  },
  {
   "cell_type": "code",
   "execution_count": 11,
   "metadata": {},
   "outputs": [
    {
     "data": {
      "text/html": [
       "<div>\n",
       "<style scoped>\n",
       "    .dataframe tbody tr th:only-of-type {\n",
       "        vertical-align: middle;\n",
       "    }\n",
       "\n",
       "    .dataframe tbody tr th {\n",
       "        vertical-align: top;\n",
       "    }\n",
       "\n",
       "    .dataframe thead th {\n",
       "        text-align: right;\n",
       "    }\n",
       "</style>\n",
       "<table border=\"1\" class=\"dataframe\">\n",
       "  <thead>\n",
       "    <tr style=\"text-align: right;\">\n",
       "      <th></th>\n",
       "      <th>item_id</th>\n",
       "      <th>en_alias</th>\n",
       "    </tr>\n",
       "  </thead>\n",
       "  <tbody>\n",
       "    <tr>\n",
       "      <th>0</th>\n",
       "      <td>206</td>\n",
       "      <td>Stephen Joseph Harper</td>\n",
       "    </tr>\n",
       "    <tr>\n",
       "      <th>1</th>\n",
       "      <td>254</td>\n",
       "      <td>Mozart</td>\n",
       "    </tr>\n",
       "    <tr>\n",
       "      <th>2</th>\n",
       "      <td>254</td>\n",
       "      <td>Joannes Chrysostomus Wolfgangus Theophilus Ama...</td>\n",
       "    </tr>\n",
       "    <tr>\n",
       "      <th>3</th>\n",
       "      <td>254</td>\n",
       "      <td>W. A. Mozart</td>\n",
       "    </tr>\n",
       "    <tr>\n",
       "      <th>4</th>\n",
       "      <td>254</td>\n",
       "      <td>Johann Chrysostom Wolfgang Amadeus Mozart</td>\n",
       "    </tr>\n",
       "    <tr>\n",
       "      <th>...</th>\n",
       "      <td>...</td>\n",
       "      <td>...</td>\n",
       "    </tr>\n",
       "    <tr>\n",
       "      <th>27972</th>\n",
       "      <td>77193323</td>\n",
       "      <td>Lucien George Jr.</td>\n",
       "    </tr>\n",
       "    <tr>\n",
       "      <th>27973</th>\n",
       "      <td>77193323</td>\n",
       "      <td>Bow-Legged Lou</td>\n",
       "    </tr>\n",
       "    <tr>\n",
       "      <th>27974</th>\n",
       "      <td>77193643</td>\n",
       "      <td>Curt Bedeau</td>\n",
       "    </tr>\n",
       "    <tr>\n",
       "      <th>27975</th>\n",
       "      <td>77194102</td>\n",
       "      <td>Baby Gee</td>\n",
       "    </tr>\n",
       "    <tr>\n",
       "      <th>27976</th>\n",
       "      <td>77194102</td>\n",
       "      <td>Gerry Charles</td>\n",
       "    </tr>\n",
       "  </tbody>\n",
       "</table>\n",
       "<p>27977 rows × 2 columns</p>\n",
       "</div>"
      ],
      "text/plain": [
       "        item_id                                           en_alias\n",
       "0           206                              Stephen Joseph Harper\n",
       "1           254                                             Mozart\n",
       "2           254  Joannes Chrysostomus Wolfgangus Theophilus Ama...\n",
       "3           254                                       W. A. Mozart\n",
       "4           254          Johann Chrysostom Wolfgang Amadeus Mozart\n",
       "...         ...                                                ...\n",
       "27972  77193323                                  Lucien George Jr.\n",
       "27973  77193323                                     Bow-Legged Lou\n",
       "27974  77193643                                        Curt Bedeau\n",
       "27975  77194102                                           Baby Gee\n",
       "27976  77194102                                      Gerry Charles\n",
       "\n",
       "[27977 rows x 2 columns]"
      ]
     },
     "execution_count": 11,
     "metadata": {},
     "output_type": "execute_result"
    }
   ],
   "source": [
    "filtered_aliases"
   ]
  },
  {
   "cell_type": "code",
   "execution_count": 12,
   "metadata": {},
   "outputs": [],
   "source": [
    "sorted_aliases = filtered_aliases.reset_index(drop=True).set_index([\"en_alias\"]).sort_index()"
   ]
  },
  {
   "cell_type": "code",
   "execution_count": 13,
   "metadata": {},
   "outputs": [
    {
     "data": {
      "text/html": [
       "<div>\n",
       "<style scoped>\n",
       "    .dataframe tbody tr th:only-of-type {\n",
       "        vertical-align: middle;\n",
       "    }\n",
       "\n",
       "    .dataframe tbody tr th {\n",
       "        vertical-align: top;\n",
       "    }\n",
       "\n",
       "    .dataframe thead th {\n",
       "        text-align: right;\n",
       "    }\n",
       "</style>\n",
       "<table border=\"1\" class=\"dataframe\">\n",
       "  <thead>\n",
       "    <tr style=\"text-align: right;\">\n",
       "      <th></th>\n",
       "      <th>item_id</th>\n",
       "    </tr>\n",
       "    <tr>\n",
       "      <th>en_alias</th>\n",
       "      <th></th>\n",
       "    </tr>\n",
       "  </thead>\n",
       "  <tbody>\n",
       "    <tr>\n",
       "      <th>\"Blind\" Boone</th>\n",
       "      <td>2906608</td>\n",
       "    </tr>\n",
       "    <tr>\n",
       "      <th>\"El Torito\"</th>\n",
       "      <td>17278692</td>\n",
       "    </tr>\n",
       "    <tr>\n",
       "      <th>\"Fast\" Eddie Clarke</th>\n",
       "      <td>980220</td>\n",
       "    </tr>\n",
       "    <tr>\n",
       "      <th>\"Gatemouth\" Brown</th>\n",
       "      <td>1095432</td>\n",
       "    </tr>\n",
       "    <tr>\n",
       "      <th>\"Harmonica\" Smith</th>\n",
       "      <td>458486</td>\n",
       "    </tr>\n",
       "    <tr>\n",
       "      <th>...</th>\n",
       "      <td>...</td>\n",
       "    </tr>\n",
       "    <tr>\n",
       "      <th>프라임</th>\n",
       "      <td>16183261</td>\n",
       "    </tr>\n",
       "    <tr>\n",
       "      <th>한 태윤</th>\n",
       "      <td>3548661</td>\n",
       "    </tr>\n",
       "    <tr>\n",
       "      <th>한태윤</th>\n",
       "      <td>3548661</td>\n",
       "    </tr>\n",
       "    <tr>\n",
       "      <th>홍성지</th>\n",
       "      <td>2366485</td>\n",
       "    </tr>\n",
       "    <tr>\n",
       "      <th>황찬성</th>\n",
       "      <td>496362</td>\n",
       "    </tr>\n",
       "  </tbody>\n",
       "</table>\n",
       "<p>27977 rows × 1 columns</p>\n",
       "</div>"
      ],
      "text/plain": [
       "                      item_id\n",
       "en_alias                     \n",
       "\"Blind\" Boone         2906608\n",
       "\"El Torito\"          17278692\n",
       "\"Fast\" Eddie Clarke    980220\n",
       "\"Gatemouth\" Brown     1095432\n",
       "\"Harmonica\" Smith      458486\n",
       "...                       ...\n",
       "프라임                  16183261\n",
       "한 태윤                  3548661\n",
       "한태윤                   3548661\n",
       "홍성지                   2366485\n",
       "황찬성                    496362\n",
       "\n",
       "[27977 rows x 1 columns]"
      ]
     },
     "execution_count": 13,
     "metadata": {},
     "output_type": "execute_result"
    }
   ],
   "source": [
    "sorted_aliases"
   ]
  },
  {
   "cell_type": "code",
   "execution_count": 14,
   "metadata": {},
   "outputs": [
    {
     "data": {
      "text/plain": [
       "array(['\"Blind\" Boone', '\"El Torito\"', '\"Fast\" Eddie Clarke', ..., '한태윤',\n",
       "       '홍성지', '황찬성'], dtype=object)"
      ]
     },
     "execution_count": 14,
     "metadata": {},
     "output_type": "execute_result"
    }
   ],
   "source": [
    "sorted_aliases.index.values"
   ]
  },
  {
   "cell_type": "code",
   "execution_count": 15,
   "metadata": {},
   "outputs": [
    {
     "data": {
      "text/html": [
       "<div>\n",
       "<style scoped>\n",
       "    .dataframe tbody tr th:only-of-type {\n",
       "        vertical-align: middle;\n",
       "    }\n",
       "\n",
       "    .dataframe tbody tr th {\n",
       "        vertical-align: top;\n",
       "    }\n",
       "\n",
       "    .dataframe thead th {\n",
       "        text-align: right;\n",
       "    }\n",
       "</style>\n",
       "<table border=\"1\" class=\"dataframe\">\n",
       "  <thead>\n",
       "    <tr style=\"text-align: right;\">\n",
       "      <th></th>\n",
       "      <th>item_id</th>\n",
       "      <th>en_label</th>\n",
       "      <th>en_description</th>\n",
       "    </tr>\n",
       "  </thead>\n",
       "  <tbody>\n",
       "    <tr>\n",
       "      <th>0</th>\n",
       "      <td>206</td>\n",
       "      <td>Stephen Harper</td>\n",
       "      <td>22nd Prime Minister of Canada</td>\n",
       "    </tr>\n",
       "    <tr>\n",
       "      <th>1</th>\n",
       "      <td>254</td>\n",
       "      <td>Wolfgang Amadeus Mozart</td>\n",
       "      <td>Austrian composer of the Classical period</td>\n",
       "    </tr>\n",
       "    <tr>\n",
       "      <th>2</th>\n",
       "      <td>255</td>\n",
       "      <td>Ludwig van Beethoven</td>\n",
       "      <td>German classical and romantic composer</td>\n",
       "    </tr>\n",
       "    <tr>\n",
       "      <th>3</th>\n",
       "      <td>303</td>\n",
       "      <td>Elvis Presley</td>\n",
       "      <td>American singer and actor</td>\n",
       "    </tr>\n",
       "    <tr>\n",
       "      <th>4</th>\n",
       "      <td>392</td>\n",
       "      <td>Bob Dylan</td>\n",
       "      <td>American recording artist; singer-songwriter, ...</td>\n",
       "    </tr>\n",
       "    <tr>\n",
       "      <th>...</th>\n",
       "      <td>...</td>\n",
       "      <td>...</td>\n",
       "      <td>...</td>\n",
       "    </tr>\n",
       "    <tr>\n",
       "      <th>90014</th>\n",
       "      <td>77197048</td>\n",
       "      <td>Gregg Maizel</td>\n",
       "      <td>musician, member of the band Vigil</td>\n",
       "    </tr>\n",
       "    <tr>\n",
       "      <th>90015</th>\n",
       "      <td>77197304</td>\n",
       "      <td>Jo Connor</td>\n",
       "      <td>musician, member of the band Vigil</td>\n",
       "    </tr>\n",
       "    <tr>\n",
       "      <th>90016</th>\n",
       "      <td>77197507</td>\n",
       "      <td>Andy R</td>\n",
       "      <td>musician, member of the band Vigil</td>\n",
       "    </tr>\n",
       "    <tr>\n",
       "      <th>90017</th>\n",
       "      <td>77197510</td>\n",
       "      <td>X Factor</td>\n",
       "      <td>musician, member of the band Vigil</td>\n",
       "    </tr>\n",
       "    <tr>\n",
       "      <th>90018</th>\n",
       "      <td>77224469</td>\n",
       "      <td>Tatu Erkkilä</td>\n",
       "      <td>Finnish choirmaster and pianist</td>\n",
       "    </tr>\n",
       "  </tbody>\n",
       "</table>\n",
       "<p>90019 rows × 3 columns</p>\n",
       "</div>"
      ],
      "text/plain": [
       "        item_id                 en_label  \\\n",
       "0           206           Stephen Harper   \n",
       "1           254  Wolfgang Amadeus Mozart   \n",
       "2           255     Ludwig van Beethoven   \n",
       "3           303            Elvis Presley   \n",
       "4           392                Bob Dylan   \n",
       "...         ...                      ...   \n",
       "90014  77197048             Gregg Maizel   \n",
       "90015  77197304                Jo Connor   \n",
       "90016  77197507                   Andy R   \n",
       "90017  77197510                 X Factor   \n",
       "90018  77224469             Tatu Erkkilä   \n",
       "\n",
       "                                          en_description  \n",
       "0                          22nd Prime Minister of Canada  \n",
       "1              Austrian composer of the Classical period  \n",
       "2                 German classical and romantic composer  \n",
       "3                              American singer and actor  \n",
       "4      American recording artist; singer-songwriter, ...  \n",
       "...                                                  ...  \n",
       "90014                 musician, member of the band Vigil  \n",
       "90015                 musician, member of the band Vigil  \n",
       "90016                 musician, member of the band Vigil  \n",
       "90017                 musician, member of the band Vigil  \n",
       "90018                    Finnish choirmaster and pianist  \n",
       "\n",
       "[90019 rows x 3 columns]"
      ]
     },
     "execution_count": 15,
     "metadata": {},
     "output_type": "execute_result"
    }
   ],
   "source": [
    "filtered_items"
   ]
  },
  {
   "cell_type": "code",
   "execution_count": 16,
   "metadata": {},
   "outputs": [],
   "source": [
    "sorted_ppl = filtered_items.reset_index(drop=True).set_index([\"en_label\"]).sort_index()"
   ]
  },
  {
   "cell_type": "code",
   "execution_count": 17,
   "metadata": {},
   "outputs": [
    {
     "data": {
      "text/plain": [
       "array([[12580615, 'Korean R&B singer songwriter'],\n",
       "       [3599072, 'Canadian hip-hop record producer']], dtype=object)"
      ]
     },
     "execution_count": 17,
     "metadata": {},
     "output_type": "execute_result"
    }
   ],
   "source": [
    "sorted_ppl.loc[\"40\"].values"
   ]
  },
  {
   "cell_type": "code",
   "execution_count": 18,
   "metadata": {},
   "outputs": [
    {
     "data": {
      "text/html": [
       "<div>\n",
       "<style scoped>\n",
       "    .dataframe tbody tr th:only-of-type {\n",
       "        vertical-align: middle;\n",
       "    }\n",
       "\n",
       "    .dataframe tbody tr th {\n",
       "        vertical-align: top;\n",
       "    }\n",
       "\n",
       "    .dataframe thead th {\n",
       "        text-align: right;\n",
       "    }\n",
       "</style>\n",
       "<table border=\"1\" class=\"dataframe\">\n",
       "  <thead>\n",
       "    <tr style=\"text-align: right;\">\n",
       "      <th></th>\n",
       "      <th>item_id</th>\n",
       "      <th>en_description</th>\n",
       "    </tr>\n",
       "    <tr>\n",
       "      <th>en_label</th>\n",
       "      <th></th>\n",
       "      <th></th>\n",
       "    </tr>\n",
       "  </thead>\n",
       "  <tbody>\n",
       "    <tr>\n",
       "      <th>Joseph Thorne Harris</th>\n",
       "      <td>22070195</td>\n",
       "      <td>English pianist and composer</td>\n",
       "    </tr>\n",
       "    <tr>\n",
       "      <th>!PAUS3</th>\n",
       "      <td>3466056</td>\n",
       "      <td>Ukrainian musician</td>\n",
       "    </tr>\n",
       "    <tr>\n",
       "      <th>\"Bassy\" Bob Brockmann</th>\n",
       "      <td>13416958</td>\n",
       "      <td>American music producer and musician</td>\n",
       "    </tr>\n",
       "    <tr>\n",
       "      <th>\"E\"qual</th>\n",
       "      <td>11184600</td>\n",
       "      <td>Japanese hip-hop artist and producer</td>\n",
       "    </tr>\n",
       "    <tr>\n",
       "      <th>\"King\" Bennie Nawahi</th>\n",
       "      <td>1742005</td>\n",
       "      <td>American steel guitar master from Hawaii</td>\n",
       "    </tr>\n",
       "    <tr>\n",
       "      <th>...</th>\n",
       "      <td>...</td>\n",
       "      <td>...</td>\n",
       "    </tr>\n",
       "    <tr>\n",
       "      <th>Ștefan Mangoianu</th>\n",
       "      <td>21396231</td>\n",
       "      <td>Romanian composer</td>\n",
       "    </tr>\n",
       "    <tr>\n",
       "      <th>Ștefan Niculescu</th>\n",
       "      <td>397145</td>\n",
       "      <td>Romanian composer</td>\n",
       "    </tr>\n",
       "    <tr>\n",
       "      <th>小松耕輔</th>\n",
       "      <td>11461237</td>\n",
       "      <td>Japanese composer</td>\n",
       "    </tr>\n",
       "    <tr>\n",
       "      <th>袁惟仁</th>\n",
       "      <td>9340858</td>\n",
       "      <td>Taiwanese musician</td>\n",
       "    </tr>\n",
       "    <tr>\n",
       "      <th>조영수</th>\n",
       "      <td>12616926</td>\n",
       "      <td>South Korean singer</td>\n",
       "    </tr>\n",
       "  </tbody>\n",
       "</table>\n",
       "<p>90019 rows × 2 columns</p>\n",
       "</div>"
      ],
      "text/plain": [
       "                         item_id                            en_description\n",
       "en_label                                                                  \n",
       " Joseph Thorne Harris   22070195              English pianist and composer\n",
       "!PAUS3                   3466056                        Ukrainian musician\n",
       "\"Bassy\" Bob Brockmann   13416958      American music producer and musician\n",
       "\"E\"qual                 11184600      Japanese hip-hop artist and producer\n",
       "\"King\" Bennie Nawahi     1742005  American steel guitar master from Hawaii\n",
       "...                          ...                                       ...\n",
       "Ștefan Mangoianu        21396231                         Romanian composer\n",
       "Ștefan Niculescu          397145                         Romanian composer\n",
       "小松耕輔                    11461237                         Japanese composer\n",
       "袁惟仁                      9340858                        Taiwanese musician\n",
       "조영수                     12616926                       South Korean singer\n",
       "\n",
       "[90019 rows x 2 columns]"
      ]
     },
     "execution_count": 18,
     "metadata": {},
     "output_type": "execute_result"
    }
   ],
   "source": [
    "sorted_ppl"
   ]
  },
  {
   "cell_type": "code",
   "execution_count": 3,
   "metadata": {},
   "outputs": [],
   "source": [
    "nlp = spacy.load(\"en_core_web_lg\")\n",
    "nlp_vectors = spacy.load(\"en_core_web_lg\")"
   ]
  },
  {
   "cell_type": "code",
   "execution_count": 20,
   "metadata": {},
   "outputs": [],
   "source": [
    "def create_kb(vocab):\n",
    "    kb = KnowledgeBase(vocab=vocab, entity_vector_length=300)\n",
    "    added_labels = set()\n",
    "    for ind, label in enumerate(sorted_ppl.index.values):\n",
    "        print(f\"\\r{ind:6} / {len(sorted_ppl)-1}\",end=\"\")\n",
    "        if label in added_labels:\n",
    "            continue\n",
    "\n",
    "        res = sorted_ppl.loc[label]\n",
    "        name = label\n",
    "        added_labels.update([name])\n",
    "        if type(res) == pd.Series:\n",
    "            qid = [res.values[0]]\n",
    "            desc = [res.values[1]]\n",
    "        else:\n",
    "            qid = res.values[:,0]\n",
    "            desc = res.values[:,1]\n",
    "\n",
    "        for ind, qid_ in enumerate(qid):\n",
    "            desc_enc = nlp_vectors(desc[ind]).vector\n",
    "            kb.add_entity(entity=str(qid_), entity_vector=desc_enc, freq=342)\n",
    "\n",
    "        probs = [1/len(qid)] * len(qid) if len(qid) > 1 else [1]\n",
    "        kb.add_alias(alias=name, entities=list(map(str, qid)), probabilities=probs)\n",
    "    \n",
    "    print()\n",
    "    added_aliases = set()\n",
    "    for ind, name in enumerate(sorted_aliases.index.values):\n",
    "        print(f\"\\r{ind:6} / {len(sorted_aliases)-1}\",end=\"\")\n",
    "        if (name in added_aliases) or (name in added_labels):\n",
    "            continue\n",
    "        \n",
    "        res = sorted_aliases.loc[name]\n",
    "        added_aliases.update([name])\n",
    "\n",
    "        if type(res) == pd.Series:\n",
    "            qids = [res.values[0]]\n",
    "        else:\n",
    "            qids = res.values[:,0]\n",
    "        \n",
    "        probs = [1/len(qids)] * len(qids) if len(qids) > 1 else [1]\n",
    "        try:\n",
    "            kb.add_alias(alias=name, entities=list(map(str, qids)), probabilities=probs)\n",
    "        except Exception as e:\n",
    "            print(e)\n",
    "            print(name)\n",
    "            print(list(map(str, qids)))\n",
    "            print(probs)\n",
    "\n",
    "    return kb"
   ]
  },
  {
   "cell_type": "code",
   "execution_count": 4,
   "metadata": {},
   "outputs": [
    {
     "data": {
      "text/plain": [
       "<spacy.lang.en.English at 0x16ce4ee7730>"
      ]
     },
     "execution_count": 4,
     "metadata": {},
     "output_type": "execute_result"
    }
   ],
   "source": [
    "nlp.from_disk(\"./models/nlp_v2/\")"
   ]
  },
  {
   "cell_type": "code",
   "execution_count": 5,
   "metadata": {},
   "outputs": [
    {
     "data": {
      "text/plain": [
       "<spacy.pipeline.entity_linker.EntityLinker at 0x16c9483c940>"
      ]
     },
     "execution_count": 5,
     "metadata": {},
     "output_type": "execute_result"
    }
   ],
   "source": [
    "config={\"incl_prior\":False}\n",
    "entity_linker = nlp.add_pipe(\"entity_linker\", config=config)\n",
    "entity_linker.from_disk(\"./models/entity_linker_v2_TRAINED\")"
   ]
  },
  {
   "cell_type": "code",
   "execution_count": 22,
   "metadata": {},
   "outputs": [],
   "source": [
    "resssb = sorted_aliases.loc[\"00029827555 IPI\"]"
   ]
  },
  {
   "cell_type": "code",
   "execution_count": 23,
   "metadata": {},
   "outputs": [
    {
     "name": "stdout",
     "output_type": "stream",
     "text": [
      " 90018 / 90018\n",
      " 27976 / 27976"
     ]
    }
   ],
   "source": [
    "# config={\"incl_prior\":False}\n",
    "# entity_linker = nlp.add_pipe(\"entity_linker\", config=config)\n",
    "# entity_linker.set_kb(create_kb)"
   ]
  },
  {
   "cell_type": "code",
   "execution_count": 24,
   "metadata": {},
   "outputs": [],
   "source": [
    "# entity_linker.to_disk(\"./models/entity_linker_v2\")"
   ]
  },
  {
   "cell_type": "code",
   "execution_count": 6,
   "metadata": {},
   "outputs": [],
   "source": [
    "#random.shuffle(mapped_data)\n",
    "\n",
    "train_data = mapped_data[:300]\n",
    "#test_data = mapped_data[18092:]"
   ]
  },
  {
   "cell_type": "code",
   "execution_count": 25,
   "metadata": {},
   "outputs": [],
   "source": [
    "from spacy.training import Example"
   ]
  },
  {
   "cell_type": "code",
   "execution_count": 26,
   "metadata": {},
   "outputs": [
    {
     "name": "stdout",
     "output_type": "stream",
     "text": [
      "   299 / 299"
     ]
    }
   ],
   "source": [
    "TRAIN_DOCS = []\n",
    "if \"sentencizer\" not in nlp.pipe_names:\n",
    "    nlp.add_pipe(\"sentencizer\")\n",
    "sentencizer = nlp.get_pipe(\"sentencizer\")\n",
    "count = 0\n",
    "for ind, (text, annotation) in enumerate(train_data):\n",
    "    print(f\"\\r{ind:6} / {len(train_data)-1}\",end=\"\")\n",
    "    for span, code in annotation[\"links\"].items():\n",
    "        str_id = str(list(code.keys())[0])\n",
    "        new_ann = {\"entities\": [(*span, \"PERSON\")]} | {\"links\": {span: {str_id: list(code.values())[0]}}}\n",
    "    try:\n",
    "        example = Example.from_dict(nlp.make_doc(text), new_ann)\n",
    "    except Exception as e:\n",
    "        count += 1\n",
    "        continue\n",
    "    example.reference = sentencizer(example.reference)\n",
    "    #print(example)\n",
    "    TRAIN_DOCS.append(example)"
   ]
  },
  {
   "cell_type": "code",
   "execution_count": 28,
   "metadata": {},
   "outputs": [
    {
     "data": {
      "text/plain": [
       "2"
      ]
     },
     "execution_count": 28,
     "metadata": {},
     "output_type": "execute_result"
    }
   ],
   "source": [
    "count"
   ]
  },
  {
   "cell_type": "code",
   "execution_count": 49,
   "metadata": {},
   "outputs": [],
   "source": [
    "# with open(\"TRAIN_DOCS_DATA.pkl\", \"wb\") as file:\n",
    "#     pickle.dump(TRAIN_DOCS, file)"
   ]
  },
  {
   "cell_type": "code",
   "execution_count": 50,
   "metadata": {},
   "outputs": [],
   "source": [
    "# with open(\"TRAIN_DOCS_DATA.pkl\", \"rb\") as file:\n",
    "#     TRAIN_DOCS=pickle.load(file)"
   ]
  },
  {
   "cell_type": "code",
   "execution_count": 29,
   "metadata": {},
   "outputs": [],
   "source": [
    "entity_linker.initialize(get_examples=lambda: TRAIN_DOCS)"
   ]
  },
  {
   "cell_type": "code",
   "execution_count": 27,
   "metadata": {},
   "outputs": [],
   "source": [
    "from spacy.util import minibatch, compounding"
   ]
  },
  {
   "cell_type": "code",
   "execution_count": 31,
   "metadata": {},
   "outputs": [
    {
     "data": {
      "text/plain": [
       "298"
      ]
     },
     "execution_count": 31,
     "metadata": {},
     "output_type": "execute_result"
    }
   ],
   "source": [
    "len(TRAIN_DOCS)"
   ]
  },
  {
   "cell_type": "code",
   "execution_count": 28,
   "metadata": {},
   "outputs": [],
   "source": [
    "import os\n",
    "os.environ[\"KMP_DUPLICATE_LIB_OK\"]=\"TRUE\""
   ]
  },
  {
   "cell_type": "code",
   "execution_count": 29,
   "metadata": {},
   "outputs": [
    {
     "data": {
      "text/plain": [
       "True"
      ]
     },
     "execution_count": 29,
     "metadata": {},
     "output_type": "execute_result"
    }
   ],
   "source": [
    "spacy.require_gpu(0)"
   ]
  },
  {
   "cell_type": "code",
   "execution_count": 34,
   "metadata": {},
   "outputs": [
    {
     "name": "stdout",
     "output_type": "stream",
     "text": [
      "0 Losses {'entity_linker': 2.785752832889557}\n",
      "10 Losses {'entity_linker': 0.816733717918396}\n",
      "20 Losses {'entity_linker': 0.6053882539272308}\n",
      "30 Losses {'entity_linker': 0.5001179724931717}\n",
      "40 Losses {'entity_linker': 0.30261580646038055}\n",
      "49 Losses {'entity_linker': 0.3449285328388214}\n"
     ]
    }
   ],
   "source": [
    "with nlp.select_pipes(enable=[\"entity_linker\"]):   # train only the entity_linker\n",
    "    optimizer = nlp.resume_training()\n",
    "    for itn in range(50):   # 500 iterations takes about a minute to train\n",
    "        batches = minibatch(TRAIN_DOCS, size=compounding(4.0, 32.0, 1.001))  # increasing batch sizes\n",
    "        losses = {}\n",
    "        for i, batch in enumerate(batches):\n",
    "            #print(f\"\\r{i:6}\",end=\"\")\n",
    "            nlp.update(\n",
    "                batch,   \n",
    "                drop=0.2,      # prevent overfitting\n",
    "                losses=losses,\n",
    "                sgd=optimizer,\n",
    "            )\n",
    "        if itn % 10 == 0:\n",
    "            print(itn, \"Losses\", losses)   # print the training loss\n",
    "print(itn, \"Losses\", losses)"
   ]
  },
  {
   "cell_type": "code",
   "execution_count": 38,
   "metadata": {},
   "outputs": [],
   "source": [
    "# entity_linker.to_disk(\"./models/entity_linker_v2_TRAINED\")"
   ]
  },
  {
   "cell_type": "code",
   "execution_count": 39,
   "metadata": {},
   "outputs": [],
   "source": [
    "# nlp.to_disk(\"./models/nlp_v2\")"
   ]
  },
  {
   "cell_type": "code",
   "execution_count": 7,
   "metadata": {},
   "outputs": [
    {
     "data": {
      "text/plain": [
       "'Schweitzer was born in Kaysersberg, Haute Alsace, the son of Louis Schweitzer and Adèle Schillinger. He spent his childhood in the Alsatian village of Gunsbach, where his father, the local Lutheran-Evangelical pastor of the EPCAAL, taught him how to play music. The tiny village became home to the Association Internationale Albert Schweitzer (AIAS). The medieval parish church of Gunsbach was shared by the Protestant and Catholic congregations, which held their prayers in different areas at different times on Sundays. This compromise arose after the Protestant Reformation and the Thirty Years\\' War. Schweitzer, the pastor\\'s son, grew up in this exceptional environment of religious tolerance, and developed the belief that true Christianity should always work towards a unity of faith and purpose. Schweitzer\\'s first language was the Alsatian dialect of German language. At the Mulhouse gymnasium he received his \"Abitur\" (the certificate at the end of secondary education) in 1893. He studied organ in Mulhouse from 1885 to 1893 with Eugène Munch, organist at the Protestant cathedral, who inspired Schweitzer with his profound enthusiasm for the music of German composer Richard Wagner. In 1893, he played for the French organist Charles-Marie Widor (at Saint-Sulpice, Paris), for whom Johann Sebastian Bach\\'s organ music contained a mystic sense of the eternal. Widor, deeply impressed, agreed to teach Schweitzer without fee, and a great and influential friendship thus began. From 1893 Schweitzer studied Protestant theology at the Kaiser Wilhelm University in Strasbourg. There he also received instruction in piano and counterpoint from professor Gustav Jacobsthal, and associated closely with Ernest Munch, the brother of his former teacher, organist of St William church, who was also a passionate admirer of J.S. Bach\\'s music. Schweitzer served his one-year compulsory military service in 1894. Schweitzer saw many operas of Richard Wagner in Strasbourg (under Otto Lohse) and in 1896 he managed to afford a visit to the Bayreuth Festival to see Wagner\\'s Der Ring des Nibelungen and Parsifal, which deeply impressed him. In 1898, he went back to Paris to write a PhD dissertation on The Religious Philosophy of Kant at the Sorbonne, and to study in earnest with Widor. Here he often met with the elderly Aristide Cavaillé-Coll. He also studied piano at that time with Marie Jaëll. In 1899, Schweitzer spent the summer semester at the University of Berlin and eventually obtained his theology degree in University of Strasbourg. He published his PhD thesis at the University of Tübingen in 1899. In 1905, Schweitzer began his study of medicine at the University of Strasbourg, culminating in the degree of M.D. in 1913.'"
      ]
     },
     "execution_count": 7,
     "metadata": {},
     "output_type": "execute_result"
    }
   ],
   "source": [
    "train_data[3][0]"
   ]
  },
  {
   "cell_type": "code",
   "execution_count": 15,
   "metadata": {},
   "outputs": [],
   "source": [
    "text= 'Bach'"
   ]
  },
  {
   "cell_type": "code",
   "execution_count": 175,
   "metadata": {},
   "outputs": [],
   "source": [
    "def gen_from_ent(nlp, text):\n",
    "    doc = nlp(text)\n",
    "\n",
    "    print(\"<======== Detected ========>\")\n",
    "\n",
    "    for ent in doc.ents:\n",
    "        if ent.kb_id_ != \"NIL\" :#and ent.label_ ==\"PERSON\":\n",
    "            print(ent.text, \"https://www.wikidata.org/wiki/Q\"+ent.kb_id_)\n",
    "    \n",
    "    \n",
    "    print(\"\\n<======== Not Detected ========>\")\n",
    "    \n",
    "    for ent in doc.ents:\n",
    "        if ent.kb_id_ == \"NIL\" and ent.label_ ==\"PERSON\":\n",
    "            print(ent.text, ent.label_,)"
   ]
  },
  {
   "cell_type": "code",
   "execution_count": 176,
   "metadata": {},
   "outputs": [],
   "source": [
    "# doc = nlp(text)\n",
    "# # for ent in doc.ents:\n",
    "# #     if ent.label_ ==\"PERSON\":\n",
    "# #         print(ent.text, ent.kb_id_)\n",
    "\n",
    "# print(\"<=================>\")\n",
    "\n",
    "# for ent in doc.ents:\n",
    "#     if ent.kb_id_ != \"NIL\" :#and ent.label_ ==\"PERSON\":\n",
    "#         print(ent.text, \"https://www.wikidata.org/wiki/Q\"+ent.kb_id_)\n",
    "\n",
    "\n",
    "\n",
    "# for ent in doc.ents:\n",
    "#     if ent.kb_id_ == \"NIL\":\n",
    "#         print(ent.text, ent.label_)\n"
   ]
  },
  {
   "cell_type": "code",
   "execution_count": 177,
   "metadata": {},
   "outputs": [],
   "source": [
    "text1 = \"Richard Wagner was a German composer and theatre director, primarily known for his operas. He is considered one of the most influential figures in Western classical music, and his works are still widely performed today. Wagner's use of leitmotifs, or recurring musical themes associated with specific characters, places, or ideas, was a major innovation in opera, and his use of chromatic harmony and orchestration was groundbreaking. Wagner's ideas and music have been the subject of much controversy, including his association with the Nazi Party and his anti-semitic writings. Despite this, his music is still widely regarded as some of the most powerful and evocative ever composed.\""
   ]
  },
  {
   "cell_type": "code",
   "execution_count": 178,
   "metadata": {},
   "outputs": [],
   "source": [
    "text2 = \"Antonio Vivaldi was an Italian Baroque composer, virtuoso violinist, and priest. He is best known for his concertos, particularly The Four Seasons, a set of violin concertos that depict the seasons of the year. Vivaldi composed over 500 concertos, many of which were written for his all-female orchestra at the Ospedale della Pietà, an orphanage where he worked as a music teacher. His music was widely popular in his lifetime and was known for its technical brilliance, rhythmic vitality and melodic invention. He was a major influence on Johann Sebastian Bach and many other composers of his time. Vivaldi's music was rediscovered in the 20th century and is now considered an important part of the Baroque repertoire. He is also considered as one of the most important figures in the development of the concerto and the modern solo form.\""
   ]
  },
  {
   "cell_type": "code",
   "execution_count": 179,
   "metadata": {},
   "outputs": [],
   "source": [
    "text3 = \"Wolfgang Amadeus Mozart was an Austrian composer and musician of the Classical period. He is widely considered to be one of the greatest composers of all time, and his works are still widely performed today. He began composing at the age of 5 and composed over 600 works, including operas, symphonies, chamber music, piano works, and religious music. Mozart's music is characterized by its melodic beauty, formal structure, and technical skill. His operas, such as The Marriage of Figaro, Don Giovanni, and The Magic Flute, are considered some of the greatest works in the genre and continue to be widely performed. His piano concertos and symphonies are also considered masterpieces of the Classical era. Mozart's influence on music was and still is immense, he exerted on the development of virtually every genre of Western music including opera, chamber music, and the piano concerto.\""
   ]
  },
  {
   "cell_type": "code",
   "execution_count": 180,
   "metadata": {},
   "outputs": [],
   "source": [
    "text4 = \"Johann Sebastian Bach was a German composer and musician of the Baroque period. He is widely considered to be one of the greatest composers of all time and his music is known for its technical depth, emotional range, and profound faith. He composed in nearly every genre of his time, including sacred and secular vocal works (such as the St Matthew Passion and the Mass in B Minor), keyboard music (such as the Well-Tempered Clavier) and orchestral music (such as the Brandenburg Concertos). Bach's music is known for its complex counterpoint and use of fugues, as well as its emotional expressiveness. He was also a notable organist and many of his works were written specifically for the organ. Bach's music was not widely known during his lifetime, but his work was rediscovered in the 19th century and has since come to be considered a cornerstone of Western classical music. His music is still widely performed and studied today, and continues to be an inspiration to many composers.\""
   ]
  },
  {
   "cell_type": "code",
   "execution_count": 188,
   "metadata": {},
   "outputs": [],
   "source": [
    "text5 = \"\"\"Johann Sebastian Bach, the renowned German composer and musician, had always dreamed of visiting the city of Paris. Finally, the opportunity presented itself and Bach eagerly set off on his journey.\n",
    "As soon as he arrived in Paris, Bach was struck by the city's beauty and grandeur. He couldn't wait to start exploring and experiencing all that it had to offer. The first stop on his itinerary was a visit to the famous Notre-Dame Cathedral. As he walked through the ancient building, Bach couldn't help but feel a sense of awe and inspiration. He knew that he had to compose a piece of music to honor such a magnificent structure.\n",
    "As the days passed, Bach spent his time visiting other famous landmarks such as the Eiffel Tower and the Louvre Museum. He also had the chance to meet with other musicians and composers of his time, and was thrilled to exchange ideas and learn from them. But the highlight of his trip was a concert he gave at the Palace of Versailles, playing his own compositions and impressing the royal court with his virtuosity.\n",
    "As his trip came to an end, Bach realized that his time in Paris had been a truly transformative experience. He had not only been able to see and experience new things, but he had also been able to draw inspiration from them. Bach returned home with a renewed sense of purpose and an eagerness to continue composing and creating music that would inspire others just as Paris had inspired him.\"\"\""
   ]
  },
  {
   "cell_type": "code",
   "execution_count": 189,
   "metadata": {},
   "outputs": [
    {
     "name": "stdout",
     "output_type": "stream",
     "text": [
      "<======== Detected ========>\n",
      "Richard Wagner https://www.wikidata.org/wiki/Q1511\n",
      "Wagner https://www.wikidata.org/wiki/Q1511\n",
      "Wagner https://www.wikidata.org/wiki/Q1511\n",
      "\n",
      "<======== Not Detected ========>\n"
     ]
    }
   ],
   "source": [
    "gen_from_ent(nlp, text1)"
   ]
  },
  {
   "cell_type": "code",
   "execution_count": 190,
   "metadata": {},
   "outputs": [
    {
     "name": "stdout",
     "output_type": "stream",
     "text": [
      "<======== Detected ========>\n",
      "Antonio Vivaldi https://www.wikidata.org/wiki/Q1340\n",
      "Vivaldi https://www.wikidata.org/wiki/Q1340\n",
      "Johann Sebastian Bach https://www.wikidata.org/wiki/Q1339\n",
      "Vivaldi https://www.wikidata.org/wiki/Q1340\n",
      "\n",
      "<======== Not Detected ========>\n"
     ]
    }
   ],
   "source": [
    "gen_from_ent(nlp, text2)"
   ]
  },
  {
   "cell_type": "code",
   "execution_count": 191,
   "metadata": {},
   "outputs": [
    {
     "name": "stdout",
     "output_type": "stream",
     "text": [
      "<======== Detected ========>\n",
      "Wolfgang Amadeus Mozart https://www.wikidata.org/wiki/Q254\n",
      "Mozart https://www.wikidata.org/wiki/Q254\n",
      "Mozart https://www.wikidata.org/wiki/Q254\n",
      "\n",
      "<======== Not Detected ========>\n",
      "Don Giovanni PERSON\n"
     ]
    }
   ],
   "source": [
    "gen_from_ent(nlp, text3)"
   ]
  },
  {
   "cell_type": "code",
   "execution_count": 192,
   "metadata": {},
   "outputs": [
    {
     "name": "stdout",
     "output_type": "stream",
     "text": [
      "<======== Detected ========>\n",
      "Johann Sebastian Bach https://www.wikidata.org/wiki/Q1339\n",
      "Bach https://www.wikidata.org/wiki/Q1339\n",
      "Bach https://www.wikidata.org/wiki/Q1339\n",
      "\n",
      "<======== Not Detected ========>\n"
     ]
    }
   ],
   "source": [
    "gen_from_ent(nlp, text4)"
   ]
  },
  {
   "cell_type": "code",
   "execution_count": 193,
   "metadata": {},
   "outputs": [
    {
     "name": "stdout",
     "output_type": "stream",
     "text": [
      "<======== Detected ========>\n",
      "Johann Sebastian Bach https://www.wikidata.org/wiki/Q1339\n",
      "Paris https://www.wikidata.org/wiki/Q520621\n",
      "Bach https://www.wikidata.org/wiki/Q1339\n",
      "Paris https://www.wikidata.org/wiki/Q520621\n",
      "Bach https://www.wikidata.org/wiki/Q1339\n",
      "Bach https://www.wikidata.org/wiki/Q1339\n",
      "Bach https://www.wikidata.org/wiki/Q1339\n",
      "Bach https://www.wikidata.org/wiki/Q1339\n",
      "Paris https://www.wikidata.org/wiki/Q520621\n",
      "Bach https://www.wikidata.org/wiki/Q1339\n",
      "Paris https://www.wikidata.org/wiki/Q520621\n",
      "\n",
      "<======== Not Detected ========>\n"
     ]
    }
   ],
   "source": [
    "gen_from_ent(nlp, text5)"
   ]
  }
 ],
 "metadata": {
  "kernelspec": {
   "display_name": "Python 3.9.13 ('nlp')",
   "language": "python",
   "name": "python3"
  },
  "language_info": {
   "codemirror_mode": {
    "name": "ipython",
    "version": 3
   },
   "file_extension": ".py",
   "mimetype": "text/x-python",
   "name": "python",
   "nbconvert_exporter": "python",
   "pygments_lexer": "ipython3",
   "version": "3.9.13"
  },
  "orig_nbformat": 4,
  "vscode": {
   "interpreter": {
    "hash": "f16bd32f816dc4beb702c0f7768fcd68b994a130f2aec88184ef3612c995104c"
   }
  }
 },
 "nbformat": 4,
 "nbformat_minor": 2
}
